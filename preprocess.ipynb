{
 "cells": [
  {
   "cell_type": "code",
   "execution_count": 2,
   "metadata": {},
   "outputs": [
    {
     "name": "stdout",
     "output_type": "stream",
     "text": [
      "CSV file 'products.csv' created successfully!\n"
     ]
    }
   ],
   "source": [
    "import json\n",
    "import csv\n",
    "import re\n",
    "\n",
    "# Load JSON data (replace 'data.json' with your JSON file)\n",
    "with open(\"data.json\", \"r\", encoding=\"utf-8\") as file:\n",
    "    data = json.load(file)\n",
    "\n",
    "# Extract required fields\n",
    "csv_data = [[\"Product Name\", \"Unit\", \"Unit Value\"]]\n",
    "\n",
    "for item in data[\"result\"]:\n",
    "    # Remove any quantity suffix like \"- 500gm\", \"- 1kg\", etc.\n",
    "    clean_product_name = re.sub(r\"\\s*-\\s*\\d+\\s*[a-zA-Z]+\", \"\", item[\"productName\"])\n",
    "    \n",
    "    csv_data.append([clean_product_name, item[\"unit\"], item[\"unitValue\"]])\n",
    "\n",
    "# Save to CSV\n",
    "csv_filename = \"products.csv\"\n",
    "with open(csv_filename, \"w\", newline=\"\", encoding=\"utf-8\") as file:\n",
    "    writer = csv.writer(file)\n",
    "    writer.writerows(csv_data)\n",
    "\n",
    "print(f\"CSV file '{csv_filename}' created successfully!\")\n"
   ]
  }
 ],
 "metadata": {
  "kernelspec": {
   "display_name": "Python 3",
   "language": "python",
   "name": "python3"
  },
  "language_info": {
   "codemirror_mode": {
    "name": "ipython",
    "version": 3
   },
   "file_extension": ".py",
   "mimetype": "text/x-python",
   "name": "python",
   "nbconvert_exporter": "python",
   "pygments_lexer": "ipython3",
   "version": "3.10.11"
  }
 },
 "nbformat": 4,
 "nbformat_minor": 2
}
